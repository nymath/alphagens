{
 "cells": [
  {
   "cell_type": "code",
   "execution_count": 16,
   "metadata": {},
   "outputs": [],
   "source": [
    "import pandas as pd\n",
    "import numpy as np\n",
    "import typing\n",
    "import joblib # >= 1.2.0\n",
    "import matplotlib.pyplot as plt\n",
    "import alphagens\n",
    "from alphagens.factor_utils import get_clean_factor_and_forward_returns, get_clean_factor_and_current_returns\n",
    "from alphagens.backtest import QuickBackTestor, QuickFactorTestor\n",
    "from alphagens.utils.metrics import FactorMetrics, StrategyMetrics\n",
    "from alphagens.data_source.tushare import pro, Stock, Index\n",
    "from alphagens.calendars import DEFAULT_CALENDAR\n",
    "from alphagens.utils.format_output import df_to_html\n",
    "from alphagens.edbt.test import SimulationEngine, SimulatedBroker, Account, BaseStrategy"
   ]
  },
  {
   "cell_type": "code",
   "execution_count": 17,
   "metadata": {},
   "outputs": [
    {
     "data": {
      "text/plain": [
       "'0.4.1'"
      ]
     },
     "execution_count": 17,
     "metadata": {},
     "output_type": "execute_result"
    }
   ],
   "source": [
    "alphagens.__version__"
   ]
  },
  {
   "cell_type": "code",
   "execution_count": 2,
   "metadata": {},
   "outputs": [],
   "source": [
    "class Context:\n",
    "    DATA_PATH = \"./data\"\n",
    "    START_DATE = \"20100101\"\n",
    "    END_DATE = \"20180101\"\n",
    "    BENCHMARK = \"000300.SH\"\n",
    "    \n",
    "    trade_dates = DEFAULT_CALENDAR.sessions_in_range(START_DATE, END_DATE)\n",
    "    REBALANCE_DATES = DEFAULT_CALENDAR.Weekly(trade_dates)"
   ]
  },
  {
   "cell_type": "code",
   "execution_count": 10,
   "metadata": {},
   "outputs": [],
   "source": [
    "class DataPortal:\n",
    "    def __init__(self):\n",
    "        start_date = Context.START_DATE\n",
    "        end_date = Context.END_DATE\n",
    "        self._all_basic_data: pd.DataFrame = joblib.load(f\"{Context.DATA_PATH}/tushare.ex_basic\")\n",
    "        self.prices: pd.DataFrame = self._all_basic_data[\"close\"].unstack().fillna(method='ffill')\n",
    "        self.universe: list[str] = Index.components(ts_code=Context.BENCHMARK, end_date=\"20180101\").index\n",
    "        self.universe = sorted([x[:-3] for x in self.universe])\n",
    "    \n",
    "        self.factors: pd.DataFrame = joblib.load(f\"{Context.DATA_PATH}/uqer.factor\").loc[Context.trade_dates]\n",
    "        self.industry_map: pd.Series = joblib.load(f\"{Context.DATA_PATH}/uqer.industry_map\")\n",
    "        self.benchmark: pd.Series = Index.history([\"000300.SH\"], start_date, end_date)[0][\"close\"]\n",
    "\n",
    "    def history(self, date, symbols: list, field: str, lookback: int = None):\n",
    "        if lookback is not None:\n",
    "            slice_dates = DEFAULT_CALENDAR.history(date, lookback)\n",
    "            return self._all_basic_data.loc[(slice_dates, symbols), field]\n",
    "\n",
    "    def query_covariance(self, date, symbols, lookback):\n",
    "        \"\"\"请注意协方差矩阵的数量级!!!\n",
    "        \"\"\"\n",
    "        if lookback < 2 * len(symbols):\n",
    "            raise ValueError(\"lookback must be twice as long as length of symbols\")\n",
    "        slice_data = self.history(date, symbols, \"pct_chg\", lookback) / 100\n",
    "        slice_data = slice_data.unstack().fillna(0)\n",
    "        mean = slice_data.mean(axis=0)\n",
    "        cov = slice_data.cov()\n",
    "        return mean, cov\n",
    "    \n",
    "    @property\n",
    "    def factor_names(self):\n",
    "        return self.factors.columns.to_list()\n",
    "    \n",
    "    def factor_get(self, factor_name, dates=None):\n",
    "        assert factor_name in self.factor_names\n",
    "        if dates is not None:\n",
    "            return self.factors.loc[(dates, slice(None)), factor_name]\n",
    "        else:\n",
    "            return self.factors[factor_name]\n",
    "        \n",
    "    def get_trading_constraints(self, type: typing.Literal[\"limit_up\", \"limit_down\"]):\n",
    "        if type == \"limit_up\":\n",
    "            return (self._all_basic_data[\"pct_chg\"] >= 10).unstack().fillna(False)\n",
    "data_portal = DataPortal()"
   ]
  },
  {
   "cell_type": "code",
   "execution_count": 11,
   "metadata": {},
   "outputs": [],
   "source": [
    "class BuyAndHold(BaseStrategy):\n",
    "    def __init__(self, engine, broker, account):\n",
    "        super().__init__(engine, broker, account)\n",
    "    \n",
    "    def before_trading_end(self):\n",
    "        if self.current_date == self.trade_dates[0]:\n",
    "            self.account.order_target_pct_to(pd.Series(1, index=[\"000001\"]))"
   ]
  },
  {
   "cell_type": "code",
   "execution_count": 12,
   "metadata": {},
   "outputs": [],
   "source": [
    "engine = SimulationEngine(Context.trade_dates, data_portal)\n",
    "broker = SimulatedBroker(engine)\n",
    "account = Account(engine, capital_base=1e6)\n",
    "algo = BuyAndHold(engine, broker, account)"
   ]
  },
  {
   "cell_type": "code",
   "execution_count": 13,
   "metadata": {},
   "outputs": [
    {
     "name": "stderr",
     "output_type": "stream",
     "text": [
      "1945it [00:00, 21835.04it/s]            \n"
     ]
    }
   ],
   "source": [
    "algo.run_backtest()"
   ]
  },
  {
   "cell_type": "code",
   "execution_count": 14,
   "metadata": {},
   "outputs": [
    {
     "data": {
      "text/plain": [
       "1.6509999999543652"
      ]
     },
     "execution_count": 14,
     "metadata": {},
     "output_type": "execute_result"
    }
   ],
   "source": [
    "algo.account.cash"
   ]
  },
  {
   "cell_type": "code",
   "execution_count": 15,
   "metadata": {},
   "outputs": [
    {
     "data": {
      "text/plain": [
       "1660825.3190000001"
      ]
     },
     "execution_count": 15,
     "metadata": {},
     "output_type": "execute_result"
    }
   ],
   "source": [
    "algo.account.portfolio_value"
   ]
  },
  {
   "cell_type": "code",
   "execution_count": null,
   "metadata": {},
   "outputs": [],
   "source": []
  }
 ],
 "metadata": {
  "kernelspec": {
   "display_name": "base",
   "language": "python",
   "name": "python3"
  },
  "language_info": {
   "codemirror_mode": {
    "name": "ipython",
    "version": 3
   },
   "file_extension": ".py",
   "mimetype": "text/x-python",
   "name": "python",
   "nbconvert_exporter": "python",
   "pygments_lexer": "ipython3",
   "version": "3.9.16"
  }
 },
 "nbformat": 4,
 "nbformat_minor": 2
}
